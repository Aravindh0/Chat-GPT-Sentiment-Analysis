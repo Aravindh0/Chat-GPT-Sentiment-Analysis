{
 "cells": [
  {
   "cell_type": "markdown",
   "id": "40731698",
   "metadata": {},
   "source": [
    "# INTRO FOR THE PROJECT - CHAT GPT SENTIMENT ANALYSIS"
   ]
  },
  {
   "cell_type": "markdown",
   "id": "9d78c225",
   "metadata": {},
   "source": [
    "## Objective\n",
    "- Sentiment analysis, also known as opinion mining, is a powerful natural language processing (NLP) technique that aims to identify and extract subjective information from textual data. The primary goal of sentiment analysis is to determine the sentiment or emotional tone expressed in the text, which can be positive, negative, neutral, or even a mixture of these sentiments.\n",
    "- In this project we are using data that are collected in twitter on tweets about Chat-GPT."
   ]
  },
  {
   "cell_type": "markdown",
   "id": "27d73861",
   "metadata": {},
   "source": [
    "## Dataset Description\n",
    "The dataset used for this project consists of the following :\n",
    "- **Tweets** : The tweets about Chat- GPT\n",
    "- **Labels** : The coresponding sentimetal labels(ie,good,bad,neutral)"
   ]
  },
  {
   "cell_type": "markdown",
   "id": "0b8f9469",
   "metadata": {},
   "source": [
    "##  Steps\n",
    "- Import Libraries\n",
    "- Read Data\n",
    "- Data Preprocessing\n",
    "- Feature Engineering\n",
    "- Model Training"
   ]
  },
  {
   "cell_type": "markdown",
   "id": "3aa4aa9c",
   "metadata": {},
   "source": [
    "## Import Libraries"
   ]
  },
  {
   "cell_type": "code",
   "execution_count": 1,
   "id": "aa13b86e",
   "metadata": {},
   "outputs": [],
   "source": [
    "import pandas as pd\n",
    "from sklearn.model_selection import train_test_split\n",
    "\n",
    "import warnings\n",
    "warnings.filterwarnings('ignore')"
   ]
  },
  {
   "cell_type": "markdown",
   "id": "d18e3573",
   "metadata": {},
   "source": [
    "## Read Data"
   ]
  },
  {
   "cell_type": "code",
   "execution_count": 2,
   "id": "15b6ec60",
   "metadata": {},
   "outputs": [],
   "source": [
    "data=pd.read_csv('file.csv')"
   ]
  },
  {
   "cell_type": "code",
   "execution_count": 3,
   "id": "b8362819",
   "metadata": {},
   "outputs": [
    {
     "data": {
      "text/html": [
       "<div>\n",
       "<style scoped>\n",
       "    .dataframe tbody tr th:only-of-type {\n",
       "        vertical-align: middle;\n",
       "    }\n",
       "\n",
       "    .dataframe tbody tr th {\n",
       "        vertical-align: top;\n",
       "    }\n",
       "\n",
       "    .dataframe thead th {\n",
       "        text-align: right;\n",
       "    }\n",
       "</style>\n",
       "<table border=\"1\" class=\"dataframe\">\n",
       "  <thead>\n",
       "    <tr style=\"text-align: right;\">\n",
       "      <th></th>\n",
       "      <th>Unnamed: 0</th>\n",
       "      <th>tweets</th>\n",
       "      <th>labels</th>\n",
       "    </tr>\n",
       "  </thead>\n",
       "  <tbody>\n",
       "    <tr>\n",
       "      <th>0</th>\n",
       "      <td>0</td>\n",
       "      <td>ChatGPT: Optimizing Language Models for Dialog...</td>\n",
       "      <td>neutral</td>\n",
       "    </tr>\n",
       "    <tr>\n",
       "      <th>1</th>\n",
       "      <td>1</td>\n",
       "      <td>Try talking with ChatGPT, our new AI system wh...</td>\n",
       "      <td>good</td>\n",
       "    </tr>\n",
       "    <tr>\n",
       "      <th>2</th>\n",
       "      <td>2</td>\n",
       "      <td>ChatGPT: Optimizing Language Models for Dialog...</td>\n",
       "      <td>neutral</td>\n",
       "    </tr>\n",
       "    <tr>\n",
       "      <th>3</th>\n",
       "      <td>3</td>\n",
       "      <td>THRILLED to share that ChatGPT, our new model ...</td>\n",
       "      <td>good</td>\n",
       "    </tr>\n",
       "    <tr>\n",
       "      <th>4</th>\n",
       "      <td>4</td>\n",
       "      <td>As of 2 minutes ago, @OpenAI released their ne...</td>\n",
       "      <td>bad</td>\n",
       "    </tr>\n",
       "    <tr>\n",
       "      <th>...</th>\n",
       "      <td>...</td>\n",
       "      <td>...</td>\n",
       "      <td>...</td>\n",
       "    </tr>\n",
       "    <tr>\n",
       "      <th>219289</th>\n",
       "      <td>219289</td>\n",
       "      <td>Other Software Projects Are Now Trying to Repl...</td>\n",
       "      <td>bad</td>\n",
       "    </tr>\n",
       "    <tr>\n",
       "      <th>219290</th>\n",
       "      <td>219290</td>\n",
       "      <td>I asked #ChatGPT to write a #NYE Joke for SEOs...</td>\n",
       "      <td>good</td>\n",
       "    </tr>\n",
       "    <tr>\n",
       "      <th>219291</th>\n",
       "      <td>219291</td>\n",
       "      <td>chatgpt is being disassembled until it can onl...</td>\n",
       "      <td>bad</td>\n",
       "    </tr>\n",
       "    <tr>\n",
       "      <th>219292</th>\n",
       "      <td>219292</td>\n",
       "      <td>2023 predictions by #chatGPT. Nothing really s...</td>\n",
       "      <td>bad</td>\n",
       "    </tr>\n",
       "    <tr>\n",
       "      <th>219293</th>\n",
       "      <td>219293</td>\n",
       "      <td>From ChatGPT, neat stuff https://t.co/qjjUF2Z2m0</td>\n",
       "      <td>neutral</td>\n",
       "    </tr>\n",
       "  </tbody>\n",
       "</table>\n",
       "<p>219294 rows × 3 columns</p>\n",
       "</div>"
      ],
      "text/plain": [
       "        Unnamed: 0                                             tweets   labels\n",
       "0                0  ChatGPT: Optimizing Language Models for Dialog...  neutral\n",
       "1                1  Try talking with ChatGPT, our new AI system wh...     good\n",
       "2                2  ChatGPT: Optimizing Language Models for Dialog...  neutral\n",
       "3                3  THRILLED to share that ChatGPT, our new model ...     good\n",
       "4                4  As of 2 minutes ago, @OpenAI released their ne...      bad\n",
       "...            ...                                                ...      ...\n",
       "219289      219289  Other Software Projects Are Now Trying to Repl...      bad\n",
       "219290      219290  I asked #ChatGPT to write a #NYE Joke for SEOs...     good\n",
       "219291      219291  chatgpt is being disassembled until it can onl...      bad\n",
       "219292      219292  2023 predictions by #chatGPT. Nothing really s...      bad\n",
       "219293      219293   From ChatGPT, neat stuff https://t.co/qjjUF2Z2m0  neutral\n",
       "\n",
       "[219294 rows x 3 columns]"
      ]
     },
     "execution_count": 3,
     "metadata": {},
     "output_type": "execute_result"
    }
   ],
   "source": [
    "data"
   ]
  },
  {
   "cell_type": "code",
   "execution_count": 4,
   "id": "7838ca0f",
   "metadata": {},
   "outputs": [],
   "source": [
    "data.drop(['Unnamed: 0'],inplace=True,axis=1)"
   ]
  },
  {
   "cell_type": "code",
   "execution_count": 5,
   "id": "2819851c",
   "metadata": {},
   "outputs": [
    {
     "data": {
      "text/html": [
       "<div>\n",
       "<style scoped>\n",
       "    .dataframe tbody tr th:only-of-type {\n",
       "        vertical-align: middle;\n",
       "    }\n",
       "\n",
       "    .dataframe tbody tr th {\n",
       "        vertical-align: top;\n",
       "    }\n",
       "\n",
       "    .dataframe thead th {\n",
       "        text-align: right;\n",
       "    }\n",
       "</style>\n",
       "<table border=\"1\" class=\"dataframe\">\n",
       "  <thead>\n",
       "    <tr style=\"text-align: right;\">\n",
       "      <th></th>\n",
       "      <th>tweets</th>\n",
       "      <th>labels</th>\n",
       "    </tr>\n",
       "  </thead>\n",
       "  <tbody>\n",
       "    <tr>\n",
       "      <th>0</th>\n",
       "      <td>ChatGPT: Optimizing Language Models for Dialog...</td>\n",
       "      <td>neutral</td>\n",
       "    </tr>\n",
       "    <tr>\n",
       "      <th>1</th>\n",
       "      <td>Try talking with ChatGPT, our new AI system wh...</td>\n",
       "      <td>good</td>\n",
       "    </tr>\n",
       "    <tr>\n",
       "      <th>2</th>\n",
       "      <td>ChatGPT: Optimizing Language Models for Dialog...</td>\n",
       "      <td>neutral</td>\n",
       "    </tr>\n",
       "    <tr>\n",
       "      <th>3</th>\n",
       "      <td>THRILLED to share that ChatGPT, our new model ...</td>\n",
       "      <td>good</td>\n",
       "    </tr>\n",
       "    <tr>\n",
       "      <th>4</th>\n",
       "      <td>As of 2 minutes ago, @OpenAI released their ne...</td>\n",
       "      <td>bad</td>\n",
       "    </tr>\n",
       "    <tr>\n",
       "      <th>...</th>\n",
       "      <td>...</td>\n",
       "      <td>...</td>\n",
       "    </tr>\n",
       "    <tr>\n",
       "      <th>219289</th>\n",
       "      <td>Other Software Projects Are Now Trying to Repl...</td>\n",
       "      <td>bad</td>\n",
       "    </tr>\n",
       "    <tr>\n",
       "      <th>219290</th>\n",
       "      <td>I asked #ChatGPT to write a #NYE Joke for SEOs...</td>\n",
       "      <td>good</td>\n",
       "    </tr>\n",
       "    <tr>\n",
       "      <th>219291</th>\n",
       "      <td>chatgpt is being disassembled until it can onl...</td>\n",
       "      <td>bad</td>\n",
       "    </tr>\n",
       "    <tr>\n",
       "      <th>219292</th>\n",
       "      <td>2023 predictions by #chatGPT. Nothing really s...</td>\n",
       "      <td>bad</td>\n",
       "    </tr>\n",
       "    <tr>\n",
       "      <th>219293</th>\n",
       "      <td>From ChatGPT, neat stuff https://t.co/qjjUF2Z2m0</td>\n",
       "      <td>neutral</td>\n",
       "    </tr>\n",
       "  </tbody>\n",
       "</table>\n",
       "<p>219294 rows × 2 columns</p>\n",
       "</div>"
      ],
      "text/plain": [
       "                                                   tweets   labels\n",
       "0       ChatGPT: Optimizing Language Models for Dialog...  neutral\n",
       "1       Try talking with ChatGPT, our new AI system wh...     good\n",
       "2       ChatGPT: Optimizing Language Models for Dialog...  neutral\n",
       "3       THRILLED to share that ChatGPT, our new model ...     good\n",
       "4       As of 2 minutes ago, @OpenAI released their ne...      bad\n",
       "...                                                   ...      ...\n",
       "219289  Other Software Projects Are Now Trying to Repl...      bad\n",
       "219290  I asked #ChatGPT to write a #NYE Joke for SEOs...     good\n",
       "219291  chatgpt is being disassembled until it can onl...      bad\n",
       "219292  2023 predictions by #chatGPT. Nothing really s...      bad\n",
       "219293   From ChatGPT, neat stuff https://t.co/qjjUF2Z2m0  neutral\n",
       "\n",
       "[219294 rows x 2 columns]"
      ]
     },
     "execution_count": 5,
     "metadata": {},
     "output_type": "execute_result"
    }
   ],
   "source": [
    "data"
   ]
  },
  {
   "cell_type": "markdown",
   "id": "48c741cc",
   "metadata": {},
   "source": [
    "## Split the test and train data"
   ]
  },
  {
   "cell_type": "code",
   "execution_count": 6,
   "id": "b152b022",
   "metadata": {},
   "outputs": [],
   "source": [
    "df=data.copy()\n",
    "train,test=train_test_split(df,train_size=0.7,shuffle=True,random_state=123)"
   ]
  },
  {
   "cell_type": "code",
   "execution_count": 7,
   "id": "13641928",
   "metadata": {},
   "outputs": [],
   "source": [
    "train.to_csv('files/train/raw/train.csv',index=False)\n",
    "test.to_csv('test data/raw/test.csv',index=False)"
   ]
  },
  {
   "cell_type": "markdown",
   "id": "8977647c",
   "metadata": {},
   "source": [
    "## Data for final test"
   ]
  },
  {
   "cell_type": "code",
   "execution_count": 8,
   "id": "4ab13e8e",
   "metadata": {},
   "outputs": [],
   "source": [
    "x=test.drop('labels',axis=1).copy()\n",
    "y=test['labels'].copy()"
   ]
  },
  {
   "cell_type": "code",
   "execution_count": 9,
   "id": "2d64727e",
   "metadata": {},
   "outputs": [],
   "source": [
    "x.to_csv('test data/x.csv',index=False)\n",
    "y.to_csv('test data/y.csv',index=False)"
   ]
  },
  {
   "cell_type": "code",
   "execution_count": null,
   "id": "c617d43f",
   "metadata": {},
   "outputs": [],
   "source": []
  }
 ],
 "metadata": {
  "kernelspec": {
   "display_name": "Python 3 (ipykernel)",
   "language": "python",
   "name": "python3"
  },
  "language_info": {
   "codemirror_mode": {
    "name": "ipython",
    "version": 3
   },
   "file_extension": ".py",
   "mimetype": "text/x-python",
   "name": "python",
   "nbconvert_exporter": "python",
   "pygments_lexer": "ipython3",
   "version": "3.10.9"
  }
 },
 "nbformat": 4,
 "nbformat_minor": 5
}
