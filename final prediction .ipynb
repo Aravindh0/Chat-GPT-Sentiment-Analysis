{
 "cells": [
  {
   "cell_type": "markdown",
   "id": "d3a523b7",
   "metadata": {},
   "source": [
    "# FINAL PREDICTION - CHAT GPT "
   ]
  },
  {
   "cell_type": "markdown",
   "id": "1dc6b683",
   "metadata": {},
   "source": [
    "## Importing the libraries"
   ]
  },
  {
   "cell_type": "code",
   "execution_count": 1,
   "id": "bdf8e50b",
   "metadata": {},
   "outputs": [],
   "source": [
    "import joblib as jb\n",
    "encode_model=jb.load('files/train/model/train_encode_model.pkl')\n",
    "model=jb.load('files/train/model/rf.pkl')"
   ]
  },
  {
   "cell_type": "code",
   "execution_count": 2,
   "id": "059c3abe",
   "metadata": {},
   "outputs": [],
   "source": [
    "import pandas as pd\n",
    "from sklearn.metrics import classification_report,confusion_matrix,ConfusionMatrixDisplay"
   ]
  },
  {
   "cell_type": "markdown",
   "id": "da3fcf0d",
   "metadata": {},
   "source": [
    "## Creating a def function"
   ]
  },
  {
   "cell_type": "code",
   "execution_count": 3,
   "id": "f35ccac0",
   "metadata": {},
   "outputs": [],
   "source": [
    "def flow (x_path,y_path):\n",
    "    #read\n",
    "    x_test=pd.read_csv(x_path)\n",
    "    y_test=pd.read_csv(y_path)\n",
    "    \n",
    "    #encoding\n",
    "    encode_data=encode_model.transform(x_test)\n",
    "    encode_data=pd.DataFrame(encode_data,columns=x_test.columns)\n",
    "    y_test=y_test.replace({'good':0,'bad':1,'neutral':2})\n",
    "    \n",
    "    #predict\n",
    "    y_pred=pd.DataFrame(model.predict(encode_data))\n",
    "    \n",
    "    #metrics\n",
    "    report=classification_report(y_pred,y_test)\n",
    "    cm=confusion_matrix(y_pred,y_test)\n",
    "    disp=ConfusionMatrixDisplay(confusion_matrix=cm)\n",
    "    \n",
    "    return(y_pred,report,disp)"
   ]
  },
  {
   "cell_type": "code",
   "execution_count": 4,
   "id": "bcfc4608",
   "metadata": {},
   "outputs": [],
   "source": [
    "y_pred,report,disp=flow('test data/x.csv','test data/y.csv')"
   ]
  },
  {
   "cell_type": "code",
   "execution_count": 5,
   "id": "5cd1568e",
   "metadata": {},
   "outputs": [
    {
     "data": {
      "text/html": [
       "<div>\n",
       "<style scoped>\n",
       "    .dataframe tbody tr th:only-of-type {\n",
       "        vertical-align: middle;\n",
       "    }\n",
       "\n",
       "    .dataframe tbody tr th {\n",
       "        vertical-align: top;\n",
       "    }\n",
       "\n",
       "    .dataframe thead th {\n",
       "        text-align: right;\n",
       "    }\n",
       "</style>\n",
       "<table border=\"1\" class=\"dataframe\">\n",
       "  <thead>\n",
       "    <tr style=\"text-align: right;\">\n",
       "      <th></th>\n",
       "      <th>0</th>\n",
       "    </tr>\n",
       "  </thead>\n",
       "  <tbody>\n",
       "    <tr>\n",
       "      <th>0</th>\n",
       "      <td>1</td>\n",
       "    </tr>\n",
       "    <tr>\n",
       "      <th>1</th>\n",
       "      <td>1</td>\n",
       "    </tr>\n",
       "    <tr>\n",
       "      <th>2</th>\n",
       "      <td>1</td>\n",
       "    </tr>\n",
       "    <tr>\n",
       "      <th>3</th>\n",
       "      <td>1</td>\n",
       "    </tr>\n",
       "    <tr>\n",
       "      <th>4</th>\n",
       "      <td>1</td>\n",
       "    </tr>\n",
       "    <tr>\n",
       "      <th>...</th>\n",
       "      <td>...</td>\n",
       "    </tr>\n",
       "    <tr>\n",
       "      <th>65784</th>\n",
       "      <td>1</td>\n",
       "    </tr>\n",
       "    <tr>\n",
       "      <th>65785</th>\n",
       "      <td>1</td>\n",
       "    </tr>\n",
       "    <tr>\n",
       "      <th>65786</th>\n",
       "      <td>1</td>\n",
       "    </tr>\n",
       "    <tr>\n",
       "      <th>65787</th>\n",
       "      <td>1</td>\n",
       "    </tr>\n",
       "    <tr>\n",
       "      <th>65788</th>\n",
       "      <td>1</td>\n",
       "    </tr>\n",
       "  </tbody>\n",
       "</table>\n",
       "<p>65789 rows × 1 columns</p>\n",
       "</div>"
      ],
      "text/plain": [
       "       0\n",
       "0      1\n",
       "1      1\n",
       "2      1\n",
       "3      1\n",
       "4      1\n",
       "...   ..\n",
       "65784  1\n",
       "65785  1\n",
       "65786  1\n",
       "65787  1\n",
       "65788  1\n",
       "\n",
       "[65789 rows x 1 columns]"
      ]
     },
     "execution_count": 5,
     "metadata": {},
     "output_type": "execute_result"
    }
   ],
   "source": [
    "y_pred"
   ]
  },
  {
   "cell_type": "code",
   "execution_count": 6,
   "id": "daa04e90",
   "metadata": {},
   "outputs": [
    {
     "name": "stdout",
     "output_type": "stream",
     "text": [
      "              precision    recall  f1-score   support\n",
      "\n",
      "           0       0.00      1.00      0.00        37\n",
      "           1       1.00      0.49      0.66     65714\n",
      "           2       0.00      1.00      0.00        38\n",
      "\n",
      "    accuracy                           0.49     65789\n",
      "   macro avg       0.33      0.83      0.22     65789\n",
      "weighted avg       1.00      0.49      0.66     65789\n",
      "\n"
     ]
    }
   ],
   "source": [
    "print(report)"
   ]
  },
  {
   "cell_type": "code",
   "execution_count": 7,
   "id": "71d90c24",
   "metadata": {},
   "outputs": [
    {
     "data": {
      "text/plain": [
       "<sklearn.metrics._plot.confusion_matrix.ConfusionMatrixDisplay at 0x28881d22c50>"
      ]
     },
     "execution_count": 7,
     "metadata": {},
     "output_type": "execute_result"
    },
    {
     "data": {
      "image/png": "[encoded data removed]",
      "text/plain": [
       "<Figure size 640x480 with 2 Axes>"
      ]
     },
     "metadata": {},
     "output_type": "display_data"
    }
   ],
   "source": [
    "disp.plot()"
   ]
  },
  {
   "cell_type": "code",
   "execution_count": null,
   "id": "9c9539cd",
   "metadata": {},
   "outputs": [],
   "source": []
  }
 ],
 "metadata": {
  "kernelspec": {
   "display_name": "Python 3 (ipykernel)",
   "language": "python",
   "name": "python3"
  },
  "language_info": {
   "codemirror_mode": {
    "name": "ipython",
    "version": 3
   },
   "file_extension": ".py",
   "mimetype": "text/x-python",
   "name": "python",
   "nbconvert_exporter": "python",
   "pygments_lexer": "ipython3",
   "version": "3.10.9"
  }
 },
 "nbformat": 4,
 "nbformat_minor": 5
}
